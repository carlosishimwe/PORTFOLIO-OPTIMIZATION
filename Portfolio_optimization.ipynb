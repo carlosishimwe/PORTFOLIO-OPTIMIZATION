{
  "nbformat": 4,
  "nbformat_minor": 0,
  "metadata": {
    "colab": {
      "name": "Copie de PORTFOLIO.ipynb",
      "provenance": [],
      "collapsed_sections": [],
      "toc_visible": true
    },
    "kernelspec": {
      "display_name": "gputest",
      "language": "python",
      "name": "gputest"
    },
    "language_info": {
      "codemirror_mode": {
        "name": "ipython",
        "version": 3
      },
      "file_extension": ".py",
      "mimetype": "text/x-python",
      "name": "python",
      "nbconvert_exporter": "python",
      "pygments_lexer": "ipython3",
      "version": "3.7.9"
    }
  },
  "cells": [
    {
      "cell_type": "markdown",
      "metadata": {
        "id": "8v_OgG2OyG8h"
      },
      "source": [
        "# **PORTFOLIO ALLOCATION OPTIMIZATION PROJECT**\r\n"
      ]
    },
    {
      "cell_type": "markdown",
      "metadata": {
        "id": "98E5omdzyG8p"
      },
      "source": [
        "\n",
        "Imagine that you are working as an adviser to a high net worth individual who wants to diversify his 10 million cash in different stocks.How would you advise him ? Well,portfolio optimization can be used to answer that.\n",
        "\n",
        "Portfolio optimization is the proces of selecting the best portfolio(asset distribution),out of the set of all portfolios being considered,according to some objective.The objective typically maximizes factors such as expected return,and minimizes costs like financial risk.\n",
        "In this project i will go through different methods of how we can optimize our portfolio.The  methods that we are going to use are :  **Monte-carlo simulation** , **Portfolio allocation optimization by function** and finally with **Pyportfolio** a library of python very useful for asset managers.\n",
        "\n",
        "**DISCLAIMER** : Obviously the following methods should not be taken as any wise financial  advise this project especially aims to learn  the different methods to optimize a portfolio.\n",
        " \n",
        "Ressources:\n",
        "\n",
        "\n",
        "\n",
        "Portfolio optimization explained : https://en.wikipedia.org/wiki/Portfolio_optimization#:~:text=Portfolio%20optimization%20is%20the%20process,minimizes%20costs%20like%20financial%20risk.\n",
        "\n",
        "Python for financial analysis and algorithmic trading : https://www.udemy.com/course/python-for-finance-and-trading-algorithms/\n",
        "\n",
        "The best stocks to invest in : https://money.usnews.com/investing/stock-market-news/slideshows/best-stocks-to-buy-this-year?slide=12\n",
        "\n",
        "Efficient frontier optimisation : https://pyportfolioopt.readthedocs.io/en/latest/EfficientFrontier.html\n",
        "\n",
        "\n",
        "Optimization with pyportfolioOpt : https://pypi.org/project/pyportfolioopt/\n",
        "\n",
        "\n"
      ]
    },
    {
      "cell_type": "code",
      "metadata": {
        "id": "j9psDsyzyG8r"
      },
      "source": [
        "#Python librairies \n",
        "import numpy as np \n",
        "import pandas as pd \n",
        "import datetime\n",
        "import matplotlib.pyplot as plt\n",
        "%matplotlib inline\n",
        "import seaborn as sns\n",
        "import statsmodels.api as sm\n",
        "import pandas_datareader.data as reader\n",
        "import pandas_profiling\n",
        "from pandas_datareader import data as web"
      ],
      "execution_count": null,
      "outputs": []
    },
    {
      "cell_type": "markdown",
      "metadata": {
        "id": "xsreN-8-yG8r"
      },
      "source": [
        "# Defining our portfolio "
      ]
    },
    {
      "cell_type": "code",
      "metadata": {
        "id": "c_qger7AyG8s"
      },
      "source": [
        "#Start and end date\n",
        "date_start= datetime.datetime(2015,1,1)\n",
        "date_end  = datetime.datetime.today()\n",
        "\n",
        "#Amazon,Irobot,Walmart,Adobe,Spotify,Disney,Facebook,Ali Baba,Lowe's Cos,Nautilus,Apple,Tesla,Newmont Corp,Sono,BJ's wholesale\n",
        "li_assets = ['AMZN','IRBT','WMT','ADBE','SPOT','DIS','FB','BABA','LOW','NLS','AAPL','TSLA',\n",
        "            #  'NEM', \n",
        "             'SONO','BJ', 'MSFT', 'MRNA']\n",
        "\n",
        "#Downloading the stocks \n",
        "df_portfolio = reader.get_data_yahoo(li_assets, date_start, date_end)['Adj Close']"
      ],
      "execution_count": null,
      "outputs": []
    },
    {
      "cell_type": "code",
      "metadata": {
        "colab": {
          "base_uri": "https://localhost:8080/",
          "height": 330
        },
        "id": "d333Ps8WPhGJ",
        "outputId": "13d56ad5-dafb-4701-f0bd-06b0b1872c25"
      },
      "source": [
        "df_portfolio.head()"
      ],
      "execution_count": null,
      "outputs": [
        {
          "output_type": "execute_result",
          "data": {
            "text/html": [
              "<div>\n",
              "<style scoped>\n",
              "    .dataframe tbody tr th:only-of-type {\n",
              "        vertical-align: middle;\n",
              "    }\n",
              "\n",
              "    .dataframe tbody tr th {\n",
              "        vertical-align: top;\n",
              "    }\n",
              "\n",
              "    .dataframe thead th {\n",
              "        text-align: right;\n",
              "    }\n",
              "</style>\n",
              "<table border=\"1\" class=\"dataframe\">\n",
              "  <thead>\n",
              "    <tr style=\"text-align: right;\">\n",
              "      <th>Symbols</th>\n",
              "      <th>AMZN</th>\n",
              "      <th>IRBT</th>\n",
              "      <th>WMT</th>\n",
              "      <th>ADBE</th>\n",
              "      <th>SPOT</th>\n",
              "      <th>DIS</th>\n",
              "      <th>FB</th>\n",
              "      <th>BABA</th>\n",
              "      <th>LOW</th>\n",
              "      <th>NLS</th>\n",
              "      <th>AAPL</th>\n",
              "      <th>TSLA</th>\n",
              "      <th>SONO</th>\n",
              "      <th>BJ</th>\n",
              "      <th>MSFT</th>\n",
              "      <th>MRNA</th>\n",
              "    </tr>\n",
              "    <tr>\n",
              "      <th>Date</th>\n",
              "      <th></th>\n",
              "      <th></th>\n",
              "      <th></th>\n",
              "      <th></th>\n",
              "      <th></th>\n",
              "      <th></th>\n",
              "      <th></th>\n",
              "      <th></th>\n",
              "      <th></th>\n",
              "      <th></th>\n",
              "      <th></th>\n",
              "      <th></th>\n",
              "      <th></th>\n",
              "      <th></th>\n",
              "      <th></th>\n",
              "      <th></th>\n",
              "    </tr>\n",
              "  </thead>\n",
              "  <tbody>\n",
              "    <tr>\n",
              "      <th>2015-01-02</th>\n",
              "      <td>308.519989</td>\n",
              "      <td>34.840000</td>\n",
              "      <td>74.167084</td>\n",
              "      <td>72.339996</td>\n",
              "      <td>NaN</td>\n",
              "      <td>87.376266</td>\n",
              "      <td>78.449997</td>\n",
              "      <td>103.599998</td>\n",
              "      <td>60.841995</td>\n",
              "      <td>14.97</td>\n",
              "      <td>24.898552</td>\n",
              "      <td>43.862000</td>\n",
              "      <td>NaN</td>\n",
              "      <td>NaN</td>\n",
              "      <td>41.539135</td>\n",
              "      <td>NaN</td>\n",
              "    </tr>\n",
              "    <tr>\n",
              "      <th>2015-01-05</th>\n",
              "      <td>302.190002</td>\n",
              "      <td>33.790001</td>\n",
              "      <td>73.951225</td>\n",
              "      <td>71.980003</td>\n",
              "      <td>NaN</td>\n",
              "      <td>86.099403</td>\n",
              "      <td>77.190002</td>\n",
              "      <td>101.000000</td>\n",
              "      <td>59.386108</td>\n",
              "      <td>15.18</td>\n",
              "      <td>24.197117</td>\n",
              "      <td>42.018002</td>\n",
              "      <td>NaN</td>\n",
              "      <td>NaN</td>\n",
              "      <td>41.157158</td>\n",
              "      <td>NaN</td>\n",
              "    </tr>\n",
              "    <tr>\n",
              "      <th>2015-01-06</th>\n",
              "      <td>295.290009</td>\n",
              "      <td>32.939999</td>\n",
              "      <td>74.521065</td>\n",
              "      <td>70.529999</td>\n",
              "      <td>NaN</td>\n",
              "      <td>85.642708</td>\n",
              "      <td>76.150002</td>\n",
              "      <td>103.320000</td>\n",
              "      <td>59.520920</td>\n",
              "      <td>14.87</td>\n",
              "      <td>24.199400</td>\n",
              "      <td>42.256001</td>\n",
              "      <td>NaN</td>\n",
              "      <td>NaN</td>\n",
              "      <td>40.553074</td>\n",
              "      <td>NaN</td>\n",
              "    </tr>\n",
              "    <tr>\n",
              "      <th>2015-01-07</th>\n",
              "      <td>298.420013</td>\n",
              "      <td>33.029999</td>\n",
              "      <td>76.498276</td>\n",
              "      <td>71.110001</td>\n",
              "      <td>NaN</td>\n",
              "      <td>86.518814</td>\n",
              "      <td>76.150002</td>\n",
              "      <td>102.129997</td>\n",
              "      <td>61.291340</td>\n",
              "      <td>15.31</td>\n",
              "      <td>24.538729</td>\n",
              "      <td>42.189999</td>\n",
              "      <td>NaN</td>\n",
              "      <td>NaN</td>\n",
              "      <td>41.068310</td>\n",
              "      <td>NaN</td>\n",
              "    </tr>\n",
              "    <tr>\n",
              "      <th>2015-01-08</th>\n",
              "      <td>300.459991</td>\n",
              "      <td>33.240002</td>\n",
              "      <td>78.112862</td>\n",
              "      <td>72.919998</td>\n",
              "      <td>NaN</td>\n",
              "      <td>87.413536</td>\n",
              "      <td>78.180000</td>\n",
              "      <td>105.029999</td>\n",
              "      <td>62.585484</td>\n",
              "      <td>15.97</td>\n",
              "      <td>25.481558</td>\n",
              "      <td>42.124001</td>\n",
              "      <td>NaN</td>\n",
              "      <td>NaN</td>\n",
              "      <td>42.276463</td>\n",
              "      <td>NaN</td>\n",
              "    </tr>\n",
              "  </tbody>\n",
              "</table>\n",
              "</div>"
            ],
            "text/plain": [
              "Symbols           AMZN       IRBT        WMT  ...  BJ       MSFT  MRNA\n",
              "Date                                          ...                     \n",
              "2015-01-02  308.519989  34.840000  74.167084  ... NaN  41.539135   NaN\n",
              "2015-01-05  302.190002  33.790001  73.951225  ... NaN  41.157158   NaN\n",
              "2015-01-06  295.290009  32.939999  74.521065  ... NaN  40.553074   NaN\n",
              "2015-01-07  298.420013  33.029999  76.498276  ... NaN  41.068310   NaN\n",
              "2015-01-08  300.459991  33.240002  78.112862  ... NaN  42.276463   NaN\n",
              "\n",
              "[5 rows x 16 columns]"
            ]
          },
          "metadata": {
            "tags": []
          },
          "execution_count": 15
        }
      ]
    },
    {
      "cell_type": "markdown",
      "metadata": {
        "id": "HADu3JSMyG8s"
      },
      "source": [
        "Now that we have defined our stocks to invest in , one can ask ourselves how we can choose the best asset weights in order to have the best portfolio. We are going to see 4 methods of how we can choose the best portfolio weighting.\n",
        "\n",
        "**1st method : Assign eqquivalently the weights**\n",
        "\n",
        "**2nd Method : Monte-Carlo simulation** \n",
        "\n",
        "**3rd method : Portfolio optimization by a function (MARKOWITZ)** \n",
        "\n",
        "**Last method : Portfolio optimization with pyportfolio**"
      ]
    },
    {
      "cell_type": "markdown",
      "metadata": {
        "id": "wSyLzwX0yG8s"
      },
      "source": [
        "# FIRST METHOD "
      ]
    },
    {
      "cell_type": "markdown",
      "metadata": {
        "id": "82sMtCY5yG8t"
      },
      "source": [
        "\n",
        "\n",
        "\n",
        "Let's suppose that we assign equivalently the $1,000,000.\n",
        "In the following let's compute the : \n",
        "\n",
        "- **Annual Returns** of the portfolio \n",
        "- **Annual volatility / risk** of the portfolio \n",
        "- **Annual variance** of the portfolio\n",
        "\n"
      ]
    },
    {
      "cell_type": "code",
      "metadata": {
        "colab": {
          "base_uri": "https://localhost:8080/"
        },
        "id": "hU9dytzYyG8t",
        "scrolled": true,
        "outputId": "925d1b71-e3b8-483e-9a11-acb16effe5b1"
      },
      "source": [
        "#Allocation of the portfolio \n",
        "nb_assets = len(li_assets)\n",
        "weights = np.array(nb_assets*[1/nb_assets])\n",
        "weights"
      ],
      "execution_count": null,
      "outputs": [
        {
          "output_type": "execute_result",
          "data": {
            "text/plain": [
              "array([0.0625, 0.0625, 0.0625, 0.0625, 0.0625, 0.0625, 0.0625, 0.0625,\n",
              "       0.0625, 0.0625, 0.0625, 0.0625, 0.0625, 0.0625, 0.0625, 0.0625])"
            ]
          },
          "metadata": {
            "tags": []
          },
          "execution_count": 16
        }
      ]
    },
    {
      "cell_type": "markdown",
      "metadata": {
        "id": "Z1ncCxAh5x8V"
      },
      "source": [
        "$i$ : asset\r\n",
        "\r\n",
        "$t$ : date\r\n",
        "\r\n",
        "$p_{i, t}$ : close price of asset i on  date t\r\n",
        "\r\n",
        "$r_{i, t}$ : return of asset i on  date t\r\n",
        "\r\n",
        "$r_{i, t} = \\frac{p_{i, t}}{p_{i, t- 1}} - 1$\r\n",
        "\r\n"
      ]
    },
    {
      "cell_type": "code",
      "metadata": {
        "colab": {
          "base_uri": "https://localhost:8080/",
          "height": 330
        },
        "id": "ANT0dvZy9Wqa",
        "outputId": "16fa63ff-73a0-4b3b-91ae-742b86adc321"
      },
      "source": [
        "#Returns of the portfolio\r\n",
        "df_ret = df_portfolio.pct_change()\r\n",
        "df_ret.head()"
      ],
      "execution_count": null,
      "outputs": [
        {
          "output_type": "execute_result",
          "data": {
            "text/html": [
              "<div>\n",
              "<style scoped>\n",
              "    .dataframe tbody tr th:only-of-type {\n",
              "        vertical-align: middle;\n",
              "    }\n",
              "\n",
              "    .dataframe tbody tr th {\n",
              "        vertical-align: top;\n",
              "    }\n",
              "\n",
              "    .dataframe thead th {\n",
              "        text-align: right;\n",
              "    }\n",
              "</style>\n",
              "<table border=\"1\" class=\"dataframe\">\n",
              "  <thead>\n",
              "    <tr style=\"text-align: right;\">\n",
              "      <th>Symbols</th>\n",
              "      <th>AMZN</th>\n",
              "      <th>IRBT</th>\n",
              "      <th>WMT</th>\n",
              "      <th>ADBE</th>\n",
              "      <th>SPOT</th>\n",
              "      <th>DIS</th>\n",
              "      <th>FB</th>\n",
              "      <th>BABA</th>\n",
              "      <th>LOW</th>\n",
              "      <th>NLS</th>\n",
              "      <th>AAPL</th>\n",
              "      <th>TSLA</th>\n",
              "      <th>SONO</th>\n",
              "      <th>BJ</th>\n",
              "      <th>MSFT</th>\n",
              "      <th>MRNA</th>\n",
              "    </tr>\n",
              "    <tr>\n",
              "      <th>Date</th>\n",
              "      <th></th>\n",
              "      <th></th>\n",
              "      <th></th>\n",
              "      <th></th>\n",
              "      <th></th>\n",
              "      <th></th>\n",
              "      <th></th>\n",
              "      <th></th>\n",
              "      <th></th>\n",
              "      <th></th>\n",
              "      <th></th>\n",
              "      <th></th>\n",
              "      <th></th>\n",
              "      <th></th>\n",
              "      <th></th>\n",
              "      <th></th>\n",
              "    </tr>\n",
              "  </thead>\n",
              "  <tbody>\n",
              "    <tr>\n",
              "      <th>2015-01-02</th>\n",
              "      <td>NaN</td>\n",
              "      <td>NaN</td>\n",
              "      <td>NaN</td>\n",
              "      <td>NaN</td>\n",
              "      <td>NaN</td>\n",
              "      <td>NaN</td>\n",
              "      <td>NaN</td>\n",
              "      <td>NaN</td>\n",
              "      <td>NaN</td>\n",
              "      <td>NaN</td>\n",
              "      <td>NaN</td>\n",
              "      <td>NaN</td>\n",
              "      <td>NaN</td>\n",
              "      <td>NaN</td>\n",
              "      <td>NaN</td>\n",
              "      <td>NaN</td>\n",
              "    </tr>\n",
              "    <tr>\n",
              "      <th>2015-01-05</th>\n",
              "      <td>-0.020517</td>\n",
              "      <td>-0.030138</td>\n",
              "      <td>-0.002910</td>\n",
              "      <td>-0.004976</td>\n",
              "      <td>NaN</td>\n",
              "      <td>-0.014613</td>\n",
              "      <td>-0.016061</td>\n",
              "      <td>-0.025097</td>\n",
              "      <td>-0.023929</td>\n",
              "      <td>0.014028</td>\n",
              "      <td>-0.028172</td>\n",
              "      <td>-0.042041</td>\n",
              "      <td>NaN</td>\n",
              "      <td>NaN</td>\n",
              "      <td>-0.009196</td>\n",
              "      <td>NaN</td>\n",
              "    </tr>\n",
              "    <tr>\n",
              "      <th>2015-01-06</th>\n",
              "      <td>-0.022833</td>\n",
              "      <td>-0.025155</td>\n",
              "      <td>0.007706</td>\n",
              "      <td>-0.020145</td>\n",
              "      <td>NaN</td>\n",
              "      <td>-0.005304</td>\n",
              "      <td>-0.013473</td>\n",
              "      <td>0.022970</td>\n",
              "      <td>0.002270</td>\n",
              "      <td>-0.020422</td>\n",
              "      <td>0.000094</td>\n",
              "      <td>0.005664</td>\n",
              "      <td>NaN</td>\n",
              "      <td>NaN</td>\n",
              "      <td>-0.014677</td>\n",
              "      <td>NaN</td>\n",
              "    </tr>\n",
              "    <tr>\n",
              "      <th>2015-01-07</th>\n",
              "      <td>0.010600</td>\n",
              "      <td>0.002732</td>\n",
              "      <td>0.026532</td>\n",
              "      <td>0.008223</td>\n",
              "      <td>NaN</td>\n",
              "      <td>0.010230</td>\n",
              "      <td>0.000000</td>\n",
              "      <td>-0.011518</td>\n",
              "      <td>0.029745</td>\n",
              "      <td>0.029590</td>\n",
              "      <td>0.014022</td>\n",
              "      <td>-0.001562</td>\n",
              "      <td>NaN</td>\n",
              "      <td>NaN</td>\n",
              "      <td>0.012705</td>\n",
              "      <td>NaN</td>\n",
              "    </tr>\n",
              "    <tr>\n",
              "      <th>2015-01-08</th>\n",
              "      <td>0.006836</td>\n",
              "      <td>0.006358</td>\n",
              "      <td>0.021106</td>\n",
              "      <td>0.025453</td>\n",
              "      <td>NaN</td>\n",
              "      <td>0.010341</td>\n",
              "      <td>0.026658</td>\n",
              "      <td>0.028395</td>\n",
              "      <td>0.021115</td>\n",
              "      <td>0.043109</td>\n",
              "      <td>0.038422</td>\n",
              "      <td>-0.001564</td>\n",
              "      <td>NaN</td>\n",
              "      <td>NaN</td>\n",
              "      <td>0.029418</td>\n",
              "      <td>NaN</td>\n",
              "    </tr>\n",
              "  </tbody>\n",
              "</table>\n",
              "</div>"
            ],
            "text/plain": [
              "Symbols         AMZN      IRBT       WMT      ADBE  ...  SONO  BJ      MSFT  MRNA\n",
              "Date                                                ...                          \n",
              "2015-01-02       NaN       NaN       NaN       NaN  ...   NaN NaN       NaN   NaN\n",
              "2015-01-05 -0.020517 -0.030138 -0.002910 -0.004976  ...   NaN NaN -0.009196   NaN\n",
              "2015-01-06 -0.022833 -0.025155  0.007706 -0.020145  ...   NaN NaN -0.014677   NaN\n",
              "2015-01-07  0.010600  0.002732  0.026532  0.008223  ...   NaN NaN  0.012705   NaN\n",
              "2015-01-08  0.006836  0.006358  0.021106  0.025453  ...   NaN NaN  0.029418   NaN\n",
              "\n",
              "[5 rows x 16 columns]"
            ]
          },
          "metadata": {
            "tags": []
          },
          "execution_count": 17
        }
      ]
    },
    {
      "cell_type": "markdown",
      "metadata": {
        "id": "OhFK5jJFyG8w"
      },
      "source": [
        "$W$: weights of the portfolio \n",
        "\n",
        "$C$ : Covariance Matrix of the Assets in the portfolio\n",
        "\n",
        "$portfolio\\_daily\\_var = W^T * C * W$\n",
        "\n",
        "$portfolio\\_annually\\_var = 252 * daily\\_var$\n",
        "\n",
        "$portfolio\\_vol = \\sqrt{W^T * C * W}$\n",
        "\n",
        "$annually\\_vol = \\sqrt{252} * daily\\_vol $\n",
        "\n",
        "$\\mu_{r_{i}}$ : mean asset return\n",
        "\n",
        "$daily\\_portfolio\\_return = \\sum_{i \\in assets}{\\mu_{r_{i}}}$\n",
        "\n",
        "$annually\\_portfolio\\_return = 252 * daily\\_portfolio\\_return$\n"
      ]
    },
    {
      "cell_type": "code",
      "metadata": {
        "colab": {
          "base_uri": "https://localhost:8080/"
        },
        "id": "ETPwRLQEPab2",
        "outputId": "55602365-9d6e-4ab7-8946-bbaf51b8eade"
      },
      "source": [
        "weights.T"
      ],
      "execution_count": null,
      "outputs": [
        {
          "output_type": "execute_result",
          "data": {
            "text/plain": [
              "array([0.0625, 0.0625, 0.0625, 0.0625, 0.0625, 0.0625, 0.0625, 0.0625,\n",
              "       0.0625, 0.0625, 0.0625, 0.0625, 0.0625, 0.0625, 0.0625, 0.0625])"
            ]
          },
          "metadata": {
            "tags": []
          },
          "execution_count": 18
        }
      ]
    },
    {
      "cell_type": "code",
      "metadata": {
        "colab": {
          "base_uri": "https://localhost:8080/"
        },
        "id": "vR6Sta-RyG8w",
        "outputId": "66788d73-cee5-46a4-e602-301f84358856"
      },
      "source": [
        "#Covariance matrix\n",
        "df_daily_cov = df_ret.cov() \n",
        "df_annually_cov = df_daily_cov * 252  #252 is number of trading days for the year \n",
        "\n",
        "df_annually_cov\n",
        "# weights\n",
        "\n",
        "#Annual portfolio Variance  \n",
        "port_variance = np.dot(weights.T, np.dot(df_annually_cov, weights))\n",
        "port_variance\n",
        "\n",
        "port_volatility = np.sqrt(port_variance)\n",
        "\n",
        "port_return = np.sum(df_ret.mean()*weights) * 252\n",
        "\n",
        "print(f\"Portfolio Variance: {port_variance:.2%}\")\n",
        "print(f\"Portfolio Volatility: {port_volatility:.2%}\")\n",
        "print(f\"Portfolio  annual returns : {port_return:.2%}\")"
      ],
      "execution_count": null,
      "outputs": [
        {
          "output_type": "stream",
          "text": [
            "Portfolio Variance: 5.44%\n",
            "Portfolio Volatility: 23.31%\n",
            "Portfolio  annual returns : 36.40%\n"
          ],
          "name": "stdout"
        }
      ]
    },
    {
      "cell_type": "markdown",
      "metadata": {
        "id": "jmVFhFv1yG8z"
      },
      "source": [
        "So , if we allocate equivalently the weights the portfolio statistics will be the following : \n",
        "\n",
        "**Portfolio Variance** : 5.44%\n",
        "\n",
        "\n",
        "\n",
        "\n",
        "**Portfolio Volatility** : 23.31%\n",
        "\n",
        "**Portfolio  annual return** : 36.40%\n",
        "\n",
        "\n",
        "One can ask ourselves if we cannot find a better allocation so we find better returns ? This is why we are going to use  some optimization methods."
      ]
    },
    {
      "cell_type": "markdown",
      "metadata": {
        "id": "_GAX5NUoyG80"
      },
      "source": [
        "#  2nd Method : Optimal portfolio allocation with the MONTE-CARLO SIMULATION"
      ]
    },
    {
      "cell_type": "markdown",
      "metadata": {
        "id": "esEFS_GSyG80"
      },
      "source": [
        "## The sharpe ratio "
      ]
    },
    {
      "cell_type": "markdown",
      "metadata": {
        "id": "fhVnZWZRyG80"
      },
      "source": [
        "Before the simulation let's discuss about the sharpe ratio.\n",
        "\n",
        "Basically, The Sharpe Ratio is a measure for calculating risk-adjusted return, and this ratio has become the industry standard for such calculations.\n",
        "\n",
        "\n",
        "The greater a portfolio's Sharpe ratio, the better its risk-adjusted-performance. If the analysis results in a negative Sharpe ratio, it either means the risk-free rate is greater than the portfolio’s return, or the portfolio's return is expected to be negative. In either case, a negative Sharpe ratio does not convey any useful meaning.\n",
        "\n",
        "\n",
        "\n",
        "$sharpe\\_ratio = portfolio\\_ret / portfolio\\_vol$\n",
        "\n",
        "\n",
        "**So, in the following we are going to optimize the portfolio by doing a thousand of allocations and after we will try to get the best allocation**.\n",
        "To do so , we will use random allocations and then pick up the one with the best sharp ratio.This method is named **Monte Carlo Simulation**.Basically,thanks to those simulations we will be able to model the probability of different outcomes in a process that cannot easily be predicted due to the intervention of random variables.\n",
        "\n"
      ]
    },
    {
      "cell_type": "code",
      "metadata": {
        "colab": {
          "background_save": true
        },
        "id": "o9N2XmyKyG81"
      },
      "source": [
        "#Number of allocations  (number of times we will the run the simulation)\n",
        "number_of_portfolios = 5000\n",
        "#Array of  the weights \n",
        "all_weights = np.zeros((number_of_portfolios,len(df_portfolio.columns)))\n",
        "#return array\n",
        "ret_arr = np.zeros(number_of_portfolios)\n",
        "#volatility array\n",
        "vol_arr = np.zeros(number_of_portfolios)\n",
        "#Sharpe array \n",
        "sharpe_arr = np.zeros(number_of_portfolios)\n",
        "\n",
        "# Begin the simulation\n",
        "\n",
        "\n",
        "for ind in range(number_of_portfolios):\n",
        "\n",
        "    # Create Random Weights\n",
        "    weights = np.array(np.random.random(16))\n",
        "\n",
        "    # Rebalance Weights (So we are sure that it will be 100% allocated)\n",
        "    weights = weights / np.sum(weights)\n",
        "    \n",
        "    # Save Weights\n",
        "    all_weights[ind,:] = weights     #Numpy broadcast \n",
        "\n",
        "    # Expected Return\n",
        "    ret_arr[ind] = np.sum((df_ret.mean() * weights) *252)\n",
        "\n",
        "    # Expected Variance\n",
        "    vol_arr[ind] = np.sqrt(np.dot(weights.T, np.dot(df_ret.cov() * 252, weights)))\n",
        "\n",
        "    # Sharpe Ratio\n",
        "    sharpe_arr[ind] = ret_arr[ind]/vol_arr[ind]\n",
        "\n",
        "    # Combine them all together \n",
        "    Monte_carlo_simulations = [ret_arr,vol_arr,sharpe_arr,all_weights]\n",
        "    # Create a Dataframe from the master array \n",
        "    simulations_df = pd.DataFrame(data=Monte_carlo_simulations).T\n",
        "\n",
        "    #Add the column Names \n",
        "    simulations_df.columns = ['Returns','Volatility','Sharpe Ratio','Portfolio weights']\n",
        "    # Making sure the data types are correct , we don't want our floats to be strings \n",
        "    simulations_df = simulations_df.infer_objects()\n",
        "\n",
        "    "
      ],
      "execution_count": null,
      "outputs": []
    },
    {
      "cell_type": "markdown",
      "metadata": {
        "id": "A4ibLoDJ0n_l"
      },
      "source": [
        " **NOW LETS GRAB THE IMPORTANT METRICS AFTER THE SIMULATION**\r\n",
        "\r\n",
        "\r\n",
        " **Max Sharpe ratio** : WHere the excess return of the portfolio is greatest given the amount of risk we are taking on \r\n",
        "\r\n",
        " **Min_volatility** "
      ]
    },
    {
      "cell_type": "code",
      "metadata": {
        "colab": {
          "background_save": true
        },
        "id": "8ngdEFQh1lYF",
        "outputId": "71b4ca2e-4f28-43e2-d33f-8c8b54aa1497"
      },
      "source": [
        "# Max sharpe ratio\r\n",
        "max_sharpe_ratio = simulations_df.loc[simulations_df['Sharpe Ratio'].idxmax()]\r\n",
        "\r\n",
        "# The Min volatility from the Monte carlo simulations \r\n",
        "min_volatility = simulations_df.loc[simulations_df['Volatility'].idxmax()]\r\n",
        "\r\n",
        "#Print out the results \r\n",
        "#MAX SHARPE RATIO\r\n",
        "print('')\r\n",
        "print('='*80)\r\n",
        "print('MAX SHARPE RATIO:')\r\n",
        "print('_'*80)\r\n",
        "print(max_sharpe_ratio)\r\n",
        "print('_'*80)\r\n",
        "\r\n",
        "#MINIMUM VOLATILITY\r\n",
        "print('')\r\n",
        "print('='*80)\r\n",
        "print('MINIMUM VOLATILITY :')\r\n",
        "print('_'*80)\r\n",
        "print(min_volatility)\r\n",
        "print('_'*80)"
      ],
      "execution_count": null,
      "outputs": [
        {
          "output_type": "stream",
          "text": [
            "\n",
            "================================================================================\n",
            "MAX SHARPE RATIO:\n",
            "________________________________________________________________________________\n",
            "Returns                                                       0.451358\n",
            "Volatility                                                    0.241439\n",
            "Sharpe Ratio                                                   1.86945\n",
            "Portfolio weights    [0.07860689396409845, 0.09738934022279841, 0.1...\n",
            "Name: 1466, dtype: object\n",
            "________________________________________________________________________________\n",
            "\n",
            "================================================================================\n",
            "MINIMUM VOLATILITY :\n",
            "________________________________________________________________________________\n",
            "Returns                                                        0.40791\n",
            "Volatility                                                    0.288273\n",
            "Sharpe Ratio                                                   1.41501\n",
            "Portfolio weights    [0.048407845180880565, 0.1319162296696376, 0.0...\n",
            "Name: 846, dtype: object\n",
            "________________________________________________________________________________\n"
          ],
          "name": "stdout"
        }
      ]
    },
    {
      "cell_type": "markdown",
      "metadata": {
        "id": "wEuugUFxAMe-"
      },
      "source": [
        "**So these are the weights where we have the maximum sharpe ratio and the mnimum volatility.**\r\n"
      ]
    },
    {
      "cell_type": "markdown",
      "metadata": {
        "id": "dEoIp5RzBtK2"
      },
      "source": [
        "**PLOTTING THE DATA**\r\n",
        "\r\n",
        "Now, let's plot the relationship between the overall volatility of our portfolio, and the expected return from it."
      ]
    },
    {
      "cell_type": "code",
      "metadata": {
        "colab": {
          "background_save": true
        },
        "id": "w6t89cXbB3xV",
        "outputId": "63c49b5f-e732-47ac-908c-06fe50b95118"
      },
      "source": [
        "#Plotting the data with a scatter plot  \r\n",
        "plt.scatter(\r\n",
        "    y=simulations_df['Returns'],\r\n",
        "    x=simulations_df['Volatility'],\r\n",
        "    c= simulations_df['Sharpe Ratio'],\r\n",
        "    cmap='RdYlBu')\r\n",
        "\r\n",
        "# Title , labels \r\n",
        "plt.title('Portfolio Returns Versus Risk')\r\n",
        "plt.colorbar(label='Sharpe Ratio')\r\n",
        "plt.xlabel('Standard Deviation')\r\n",
        "plt.ylabel('Returns')\r\n",
        "\r\n",
        "# Plot max Sharpe Ratio with red star \r\n",
        "plt.scatter(max_sharpe_ratio[1],\r\n",
        "            max_sharpe_ratio[0],\r\n",
        "            marker=(5,1,0),\r\n",
        "            color = 'r',\r\n",
        "            s=600\r\n",
        "            )\r\n",
        "\r\n",
        "# Plot max Sharpe Ratio with blue star \r\n",
        "plt.scatter(min_volatility[1],\r\n",
        "            min_volatility[0],\r\n",
        "            marker=(5,1,0),\r\n",
        "            color = 'b',\r\n",
        "            s=600\r\n",
        "            )\r\n",
        " \r\n",
        "plt.show"
      ],
      "execution_count": null,
      "outputs": [
        {
          "output_type": "execute_result",
          "data": {
            "text/plain": [
              "<function matplotlib.pyplot.show>"
            ]
          },
          "metadata": {
            "tags": []
          },
          "execution_count": 0
        },
        {
          "output_type": "display_data",
          "data": {
            "image/png": "[encoded data removed]",
            "text/plain": [
              "<Figure size 432x288 with 2 Axes>"
            ]
          },
          "metadata": {
            "tags": []
          }
        }
      ]
    },
    {
      "cell_type": "code",
      "metadata": {
        "colab": {
          "background_save": true
        },
        "id": "20TTy3MHB5bw"
      },
      "source": [
        ""
      ],
      "execution_count": null,
      "outputs": []
    },
    {
      "cell_type": "markdown",
      "metadata": {
        "id": "-iNu9Nr3B2vb"
      },
      "source": [
        ""
      ]
    },
    {
      "cell_type": "markdown",
      "metadata": {
        "id": "W1qgRplpyG82"
      },
      "source": [
        "# PORTFOLIO ALLOCATION with SciPy\n",
        "Now that we have run multiple random allocations let's try to see if we cannot use another efficient way. Because, if we have a bunch of data it can be tricky to launch around 5000 allocations and more.Now , instead of doing some random allocations we are going optimize our portfolio with some functions. \n",
        "With the first  function we  will try to maximize the sharp ratio ( to do so we will minimize the negative sharp ratio)\n",
        "\n",
        "And with the second function we will use it to grab all the metrics ( returns , sharp ratio ..)\n",
        "\n",
        "And finaly the third function will be used as a constraint.Basically, it will allow us to be insured that the weights have an allocation equal 100% , not more and not less"
      ]
    },
    {
      "cell_type": "code",
      "metadata": {
        "colab": {
          "background_save": true
        },
        "id": "Uy-iNZOTyG82"
      },
      "source": [
        "# Step 1 \n",
        "#Creation of a function  that take some weights and return back ret, volatitlity and the sharpe ratio\n",
        "def get_ret_vol_sr(weights):\n",
        "    \"\"\"\n",
        "    Takes in weights, returns array or return,volatility, sharpe ratio\n",
        "    \"\"\"\n",
        "    weights = np.array(weights)\n",
        "    ret = np.sum(df_ret.mean() * weights) * 252\n",
        "    vol = np.sqrt(np.dot(weights.T, np.dot(df_ret.cov() * 252, weights)))\n",
        "    sr = ret/vol\n",
        "    return np.array([ret,vol,sr])\n",
        "    # The minimization function \n",
        "from scipy.optimize import minimize\n",
        "#Step 2 \n",
        "#We want to minimize the negative sharp ratio so with this function it returns the negative sharp ratio \n",
        "def neg_sharpe(weights):\n",
        "    return  get_ret_vol_sr(weights)[2] * -1\n",
        "# Contraints\n",
        "# With the constraints we will have less things to check \n",
        "# This function is here because when we add the allocations it have to be equal to 1\n",
        "def check_sum(weights):\n",
        "    '''\n",
        "    Returns 0 if sum of weights is 1.0   \n",
        "    '''\n",
        "    return np.sum(weights) - 1\n",
        "# By convention of minimize function it should be a function that returns zero for conditions\n",
        "# It says that the constraint is going to be an equation type constraint \n",
        "cons = ({'type':'eq','fun': check_sum})\n",
        "# 0-1 bounds for each weight\n",
        "# Those bounds are here beacuase the actual weights have to be between 0 and 1 \n",
        "bounds = ((0,1), (0,1), (0,1), (0,1), (0,1), (0,1), (0,1), (0,1), (0,1), (0,1), (0,1), (0,1), (0,1), (0,1), (0,1),(0,1))\n",
        "# Initial Guess (equal distribution)\n",
        "init_guess = np.array(nb_assets*[1/nb_assets])\n",
        "#Minimizing the negative sharpe function\n",
        "opt_results = minimize(neg_sharpe,init_guess,method='SLSQP',bounds=bounds,constraints=cons)"
      ],
      "execution_count": null,
      "outputs": []
    },
    {
      "cell_type": "code",
      "metadata": {
        "colab": {
          "background_save": true
        },
        "id": "mRpWf9KvyG86",
        "outputId": "a308dbd5-6538-4278-8831-178b57153d18"
      },
      "source": [
        "#Final results\n",
        "opt_results.x\n",
        "get_ret_vol_sr(opt_results.x)"
      ],
      "execution_count": null,
      "outputs": [
        {
          "output_type": "execute_result",
          "data": {
            "text/plain": [
              "array([0.61694822, 0.29782528, 2.07151054])"
            ]
          },
          "metadata": {
            "tags": []
          },
          "execution_count": 0
        }
      ]
    },
    {
      "cell_type": "code",
      "metadata": {
        "colab": {
          "background_save": true
        },
        "id": "bWsu-Axca4Ab",
        "outputId": "4df4fb29-e344-4aa5-eb70-05469a836577"
      },
      "source": [
        "#Optimized weighs\r\n",
        "print('')\r\n",
        "print('='*80)\r\n",
        "print('OPTIMIZED WEIGHTS:')\r\n",
        "print('_'*80)\r\n",
        "print(opt_results.x)\r\n",
        "print('_'*80)\r\n",
        "\r\n",
        "#Optimized Metrics\r\n",
        "print('')\r\n",
        "print('='*80)\r\n",
        "print('OPTIMIZED METRICS :')\r\n",
        "print('_'*80)\r\n",
        "print(get_ret_vol_sr(opt_results.x))\r\n",
        "print('_'*80)"
      ],
      "execution_count": null,
      "outputs": [
        {
          "output_type": "stream",
          "text": [
            "\n",
            "================================================================================\n",
            "OPTIMIZED WEIGHTS:\n",
            "________________________________________________________________________________\n",
            "[4.13363211e-01 0.00000000e+00 0.00000000e+00 1.05559036e-01\n",
            " 0.00000000e+00 0.00000000e+00 0.00000000e+00 0.00000000e+00\n",
            " 2.48177033e-02 1.52375127e-02 4.17128892e-02 1.42097728e-01\n",
            " 2.73218947e-17 3.10608464e-02 0.00000000e+00 2.26151073e-01]\n",
            "________________________________________________________________________________\n",
            "\n",
            "================================================================================\n",
            "OPTIMIZED METRICS :\n",
            "________________________________________________________________________________\n",
            "[0.61694822 0.29782528 2.07151054]\n",
            "________________________________________________________________________________\n"
          ],
          "name": "stdout"
        }
      ]
    },
    {
      "cell_type": "markdown",
      "metadata": {
        "id": "BD_2u3rvyG87"
      },
      "source": [
        "So with that method we have that \n",
        "\n",
        "\n",
        "**Portfolio Volatility** : 63%\n",
        "\n",
        "**Portfolio expected annual return** : 30%\n",
        "\n",
        "**Sharpe Ratio** : 2.10\n",
        "\n",
        "\n",
        "So if we have the optimal result we can now check all the optimal portfolios in order to advize on how to invest $1000000"
      ]
    },
    {
      "cell_type": "code",
      "metadata": {
        "colab": {
          "background_save": true
        },
        "id": "OQxsaGBByG89"
      },
      "source": [
        "pip install PyPortfolioOpt;"
      ],
      "execution_count": null,
      "outputs": []
    },
    {
      "cell_type": "markdown",
      "metadata": {
        "id": "8MUwQ1iOkS6O"
      },
      "source": [
        "# PORTFOLIO OPTIMIZATION WITH PYPORTFOLIO"
      ]
    },
    {
      "cell_type": "markdown",
      "metadata": {
        "id": "htDRT22YnFHu"
      },
      "source": [
        "PyPortFolio is a package that allows us to optimize our portfolio.So it will be the last method that we will use to optimize our portfolio."
      ]
    },
    {
      "cell_type": "code",
      "metadata": {
        "colab": {
          "background_save": true
        },
        "id": "7d5nxCayyG89"
      },
      "source": [
        "#Libraries\n",
        "from pypfopt.efficient_frontier import EfficientFrontier\n",
        "from pypfopt import risk_models\n",
        "from pypfopt import expected_returns\n",
        "from pypfopt.cla import CLA\n",
        "from matplotlib.ticker import FuncFormatter\n",
        "from pypfopt.discrete_allocation import DiscreteAllocation, get_latest_prices"
      ],
      "execution_count": null,
      "outputs": []
    },
    {
      "cell_type": "code",
      "metadata": {
        "colab": {
          "background_save": true
        },
        "id": "OUlcOUZ9yG8-",
        "outputId": "f5d8e86c-2376-4322-dfd5-8487514ca3e8"
      },
      "source": [
        " \r\n",
        "# Calculate expected returns and sample covariance\r\n",
        "mu = expected_returns.mean_historical_return(df_portfolio)\r\n",
        "S = risk_models.sample_cov(df_portfolio)\r\n",
        "\r\n",
        "# Optimise for maximal Sharpe ratio\r\n",
        "ef = EfficientFrontier(mu, S)\r\n",
        "raw_weights = ef.max_sharpe()\r\n",
        "cleaned_weights = ef.clean_weights()  \r\n",
        "print(cleaned_weights)\r\n",
        "ef.portfolio_performance(verbose=True)"
      ],
      "execution_count": null,
      "outputs": [
        {
          "output_type": "stream",
          "text": [
            "OrderedDict([('AMZN', 0.51016), ('IRBT', 0.0), ('WMT', 0.0), ('ADBE', 0.10579), ('SPOT', 0.0), ('DIS', 0.0), ('FB', 0.0), ('BABA', 0.0), ('LOW', 0.0), ('NLS', 0.0), ('AAPL', 0.00518), ('TSLA', 0.11521), ('SONO', 0.0), ('BJ', 0.0), ('MSFT', 0.0), ('MRNA', 0.26366)])\n",
            "Expected annual return: 72.3%\n",
            "Annual volatility: 32.0%\n",
            "Sharpe Ratio: 2.20\n"
          ],
          "name": "stdout"
        },
        {
          "output_type": "execute_result",
          "data": {
            "text/plain": [
              "(0.7229942220538843, 0.31973618678648835, 2.1986695629272823)"
            ]
          },
          "metadata": {
            "tags": []
          },
          "execution_count": 0
        }
      ]
    },
    {
      "cell_type": "code",
      "metadata": {
        "colab": {
          "background_save": true
        },
        "id": "KzC1XY2NpS2g",
        "outputId": "21c957ef-56ed-4b21-8597-ed93d3f7cff7"
      },
      "source": [
        "#Getting the discrete allocation of each share per stock \r\n",
        "latest_prices = get_latest_prices(df_portfolio)\r\n",
        "\r\n",
        "weights = cleaned_weights\r\n",
        "da = DiscreteAllocation(weights, latest_prices, total_portfolio_value=1000000)\r\n",
        "\r\n",
        "allocation, leftover = da.lp_portfolio()\r\n",
        "print(\"Discrete allocation:\", allocation)\r\n",
        "print(\"Funds remaining: ${:.2f}\".format(leftover))\r\n"
      ],
      "execution_count": null,
      "outputs": [
        {
          "output_type": "stream",
          "text": [
            "Discrete allocation: {'AMZN': 155, 'ADBE': 213, 'AAPL': 38, 'TSLA': 174, 'MRNA': 2367}\n",
            "Funds remaining: $349.77\n"
          ],
          "name": "stdout"
        }
      ]
    },
    {
      "cell_type": "markdown",
      "metadata": {
        "id": "e1V9POxmrAQe"
      },
      "source": [
        "**Thanks to the package we know the amount of shares of Amazon , ADBE, NLS , AAPL , TSLA and MRNA that we can buy.At the end of the day it appears that this package is very powerful and useful**."
      ]
    },
    {
      "cell_type": "code",
      "metadata": {
        "id": "P895FF5OtXyv"
      },
      "source": [
        "from google.colab import drive\n",
        "drive.mount('/content/drive')"
      ],
      "execution_count": null,
      "outputs": []
    },
    {
      "cell_type": "code",
      "metadata": {
        "id": "D8_d8tMZtY3y"
      },
      "source": [
        "!wget -nc https://raw.githubusercontent.com/brpy/colab-pdf/master/colab_pdf.py\r\n",
        "from colab_pdf import colab_pdf\r\n",
        "colab_pdf('PORTFOLIO.ipynb')"
      ],
      "execution_count": null,
      "outputs": []
    },
    {
      "cell_type": "code",
      "metadata": {
        "id": "ng1HDjVztkIL"
      },
      "source": [
        ""
      ],
      "execution_count": null,
      "outputs": []
    }
  ]
}
